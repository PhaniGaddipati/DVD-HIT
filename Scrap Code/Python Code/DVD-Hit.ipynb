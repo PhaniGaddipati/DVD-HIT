{
 "cells": [
  {
   "cell_type": "code",
   "execution_count": 1,
   "metadata": {
    "collapsed": true
   },
   "outputs": [],
   "source": [
    "# 0. Dependencies\n",
    "import itertools\n",
    "import time\n",
    "import binascii\n",
    "from random import randrange\n",
    "import operator"
   ]
  },
  {
   "cell_type": "code",
   "execution_count": 2,
   "metadata": {
    "collapsed": true
   },
   "outputs": [],
   "source": [
    "# 1. Helper functions\n",
    "def getReads(f):\n",
    "    '''Parses a reads file'''\n",
    "    reads = []\n",
    "    while True:\n",
    "        first_line =  f.readline()\n",
    "        if len(first_line) == 0:\n",
    "            break  # end of file\n",
    "        name = first_line[1:].rstrip()\n",
    "        seq = f.readline().rstrip()\n",
    "        # f.readline()  # ignore line starting with +\n",
    "        # qual = f.readline().rstrip()\n",
    "        reads.append(seq)\n",
    "    return reads\n",
    "\n",
    "def makeIndex(read, index, mini, maxi):\n",
    "    '''Creates an index table'''\n",
    "    index.append({})\n",
    "    for i in range(len(read)):\n",
    "        for j in range(mini,maxi):\n",
    "            word = read[i:i+j]\n",
    "            if len(word) == j:\n",
    "                if word not in index[-1]:\n",
    "                    index[-1][word] = [i]\n",
    "                else:\n",
    "                    index[-1][word].append(i)\n",
    "    return index"
   ]
  },
  {
   "cell_type": "code",
   "execution_count": 3,
   "metadata": {
    "collapsed": true
   },
   "outputs": [],
   "source": [
    "# 2. SW Filtering\n",
    "def shortWordFilter(reads, index, mini, maxi):\n",
    "    '''Short Word Filtering'''\n",
    "    cluster = []\n",
    "    cluster.append([reads[0]])\n",
    "    reads.pop(0)\n",
    "\n",
    "    while(reads):\n",
    "        read = reads.pop(0)\n",
    "        L = len(read)\n",
    "        similar = False \n",
    "        for x in range(len(index)):\n",
    "            counts = [0] * 4\n",
    "            for i in range(len(read)):\n",
    "                for j in range(mini,maxi+1):\n",
    "                    word = read[i:i+j]\n",
    "                    if len(word) == j:\n",
    "                        if word in index[x]:\n",
    "                            counts[j-mini] += 1\n",
    "            if counts[0] > L-mini+1-(.02)*mini*L:\n",
    "                cluster[x].append(read)\n",
    "                similar = True\n",
    "                break;\n",
    "        if not similar:\n",
    "            cluster.append([read])\n",
    "            index = makeIndex(read, index, mini, maxi+1)\n",
    "            \n",
    "    return cluster"
   ]
  },
  {
   "cell_type": "code",
   "execution_count": 4,
   "metadata": {
    "collapsed": false
   },
   "outputs": [
    {
     "name": "stdout",
     "output_type": "stream",
     "text": [
      "hman\n",
      "TCTA\n"
     ]
    }
   ],
   "source": [
    "# 3.1 Rosetta Code LCS. O(mn) space, O(mn) time. Does not work. DO NOT USE\n",
    "def llcs1(a,b):\n",
    "    return float(len(lcs1(a,b)))/float((min([len(a), len(b)])))\n",
    "\n",
    "def lcs1(a, b):\n",
    "    lengths = [[0 for j in range(len(b)+1)] for i in range(len(a)+1)]\n",
    "    \n",
    "    # row 0 and column 0 are initialized to 0 already\n",
    "    for i, x in enumerate(a):\n",
    "        for j, y in enumerate(b):\n",
    "            if x == y:\n",
    "                lengths[i+1][j+1] = lengths[i][j] + 1\n",
    "            else:\n",
    "                lengths[i+1][j+1] = max(lengths[i+1][j], lengths[i][j+1])\n",
    "\n",
    "    # read the substring out from the matrix\n",
    "    result = \"\"\n",
    "\n",
    "    x, y = len(a), len(b)\n",
    "    while x != 0 and y != 0:\n",
    "        if lengths[x][y] == lengths[x-1][y]:\n",
    "            x -= 1\n",
    "        elif lengths[x][y] == lengths[x][y-1]:\n",
    "            y -= 1\n",
    "        else:\n",
    "            assert a[x-1] == b[y-1]\n",
    "            result = a[x-1] + result\n",
    "            x -= 1\n",
    "            y -= 1\n",
    "    return result\n",
    "\n",
    "print lcs1('human','chimpanzee')\n",
    "print lcs1('ATCTGAT', 'TGCATA')"
   ]
  },
  {
   "cell_type": "code",
   "execution_count": 5,
   "metadata": {
    "collapsed": false
   },
   "outputs": [
    {
     "name": "stdout",
     "output_type": "stream",
     "text": [
      "hman\n",
      "TGAT\n"
     ]
    }
   ],
   "source": [
    "# 3.2 My LCS. Calculated recursively. O(mn) space, O(mn) time. Slow.\n",
    "def llcs2(a,b):\n",
    "    return float(len(\"\".join(lcs2(a,b))))/float((min([len(a), len(b)])))\n",
    "\n",
    "def lcs2(xs, ys):\n",
    "    if xs and ys:\n",
    "        xb, xe = xs[:-1], xs[-1]\n",
    "        yb, ye = ys[:-1], ys[-1]\n",
    "        if xe == ye:\n",
    "            return lcs2(xb, yb) + [xe]\n",
    "        else:\n",
    "            return max(lcs2(xs, yb), lcs2(xb, ys), key=len)\n",
    "    else:\n",
    "        return []\n",
    "\n",
    "print \"\".join(lcs2('human','chimpanzee'))\n",
    "print \"\".join(lcs2('ATCTGAT', 'TGCATA'))"
   ]
  },
  {
   "cell_type": "code",
   "execution_count": 6,
   "metadata": {
    "collapsed": false
   },
   "outputs": [
    {
     "name": "stdout",
     "output_type": "stream",
     "text": [
      "hman\n",
      "TCTA\n"
     ]
    }
   ],
   "source": [
    "# 3.3 My LCS. Dynamic Programming. O(mn) space, O(mn) time. Average\n",
    "from collections import defaultdict, namedtuple\n",
    "from itertools import product\n",
    "\n",
    "def llcs3(a,b):\n",
    "    return float(len(\"\".join(lcs3(a,b))))/float((min([len(a), len(b)])))\n",
    "\n",
    "def lcs_grid(xs, ys):\n",
    "    '''Create a grid for longest common subsequence calculations.\n",
    "    \n",
    "    Returns a grid where grid[(j, i)] is a pair (n, move) such that\n",
    "    - n is the length of the LCS of prefixes xs[:i], ys[:j]\n",
    "    - move is \\, ^, <, or e, depending on whether the best move\n",
    "      to (j, i) was diagonal, downwards, or rightwards, or None.\n",
    "    \n",
    "    Example:\n",
    "       T  A  R  O  T\n",
    "    A 0< 1\\ 1< 1< 1<\n",
    "    R 0< 1^ 2\\ 2< 2<\n",
    "    T 1\\ 1< 2^ 2< 3\\\n",
    "    '''\n",
    "    Cell = namedtuple('Cell', 'length move')\n",
    "    grid = defaultdict(lambda: Cell(0, 'e'))\n",
    "    sqs = product(enumerate(ys), enumerate(xs))\n",
    "    for (j, y), (i, x) in sqs:\n",
    "        if x == y:\n",
    "            cell = Cell(grid[(j-1, i-1)].length + 1, '\\\\')\n",
    "        else:\n",
    "            left = grid[(j, i-1)].length\n",
    "            over = grid[(j-1, i)].length\n",
    "            if left < over:\n",
    "                cell = Cell(over, '^')\n",
    "            else:\n",
    "                cell = Cell(left, '<')\n",
    "        grid[(j, i)] = cell\n",
    "    return grid\n",
    "\n",
    "def lcs3(xs, ys):\n",
    "    grid = lcs_grid(xs, ys)\n",
    "    i, j = len(xs) - 1, len(ys) - 1\n",
    "    lcs = list()\n",
    "    for move in iter(lambda: grid[(j, i)].move, 'e'):\n",
    "        if move == '\\\\':\n",
    "            lcs.append(xs[i])\n",
    "            i -= 1\n",
    "            j -= 1\n",
    "        elif move == '^':\n",
    "            j -= 1\n",
    "        elif move == '<':\n",
    "            i -= 1\n",
    "    lcs.reverse()\n",
    "    return lcs\n",
    "\n",
    "print \"\".join(lcs3('human','chimpanzee'))\n",
    "print \"\".join(lcs3('ATCTGAT', 'TGCATA'))\n",
    "\n",
    "# Really long reads\n",
    "#import time\n",
    "#longRead1 = \"GGGGGCATGCCTTAACATGCAGTCGAACGGCAGCACGGGTGCTTGCACCTGGTGGCGAGTGGCGAACGGGTGAGTAATACATCGGAACATGTCCAGTAGTGGGGGATAGCCCGGCGAAAGCCGGATTAATACCGCATACGCTCTATGGAGGAAAGCGGGGGATCGAAAGACCTCGCGCTATAGGGGTGGCCGATGGCGGATTAGCTAGTTGGTGGGGTAAAGGCCTACCAAGGCGACGATCCGTAGCTGGTCTGAGAGGACGACCAGCCACACTGGGACTGAGACACGGCCCAGACTCCTACGGGAGGCAGCAGTGGGGAATTTTGGACAATGGGCGAAAGCCTGATCCAGCAATGCCGCGTGTGTGAAGAAGGCCTTCGGGTTGTAAAGCACTTTTGTCCGGAAAGAAATCCCTGGTCCTAATATGGCCGGGGGATGACGGTACCGGAAGAATAAGCACCGGCTAACTACGTGCCAGCAGCCGCGGTAATACGTAGGGTGCAAGCGTTAATCGGAATTACTGGGCGTAAAGCGTGCGCAGGCGGTGATGCAAGACCGATGTGAAATCCCCGGGCTCAACCTGGGAACTGCATTGGTGACTGCATCGCTAGAGTATGGCAGAGGGGGGTAGAATTCCACGTGTAGCAGTGAAATGCGTAGAGATGTGGAGGAATACCGATGGCGAAGGCAGCCCCCTGGGTCAATACTGACGCTCATGCACGAAAGCGTGGGGAGCAAACAGGATTAGATACCCTGGTAGTCCACGCCCTAAACGATGTCAACTGGTTGTCGGGTCTTCATTGACTTGGTAACGTAGCTAACGCGTGAAGTTGACCGCCTGGGGAGTACGGTCGCAAGATTAAAACTCAAAGGAATTGACGGGGACCCGCACAAGCGGTGGATGATGTGGATTAATTCGATGCAACGCGAAAAACCTTACCTACCCTTGACATGGATGGAATCCCGCTGAGAGGTGGGAGTGCCCGAAAGGGAGCCATCACACAGGTGCTGCATGGCTGTCGTCAGCTCGTGTCGTGAGATGTTGGGTTAAGTCCCGCAACGAGCGCAACCCTTGTCCCTAGTTGCTACGCAAGAGCACTCCAGGGAGACTGCCGGTGACAAACCGGAGGAAGGTGGGGATGACGTCAAGTCCTCATGGCCCTTATGGGTAGGGCTTCACACGTCATACAATGGTCGGAACAGAGGGTTGCCAAGCCGCGAGGTGGAGCCAATCCCAGAAAACCGATCGTAGTCCGGATCGCAGTCTGCAACTCGACTGCGTGAAGCTGGAATCGCTAGTAATCGCGGATCAGCATGCCGCGGTGAATACGTTCCCGGGTCTTGTACACACCGCCCGTCACACCATGGGAGTGGGTTTTGCCAGAAGTGGCTAGTCTAACCGCAAGGAGGACGGTCACCACGTCAGATCAGCGT\"\n",
    "#longRead2 = \"TAGACTGCAGTCGAACGCAGTCTTCGGACTGAGTGGCGCACGGGTGAGTAACGCGTAACTGACGTACCCGGAAGTCCAGAATAACTTCCCGAAAGGGAAGCTAATACCGGATGTGCAGCACTTCTTCTGGGAGTGTTGTAAAGATTTATCGCTTTCGGATCGGGTTGCGTTCCATCAGCTAGATGGTGAGGTAAAGGCTCACCATGGCAACGACGGATAGCCGACCTGAGAGGGTGGTCGGCCACAGGGGCACTGAGACACGGGCCCCACTCCTACGGGAGGCAGCAGTTAGGAATCTTCTGCAATGGACGAAAGTCTGACAGAGCGACGCCGCTTGAGGGAAGAAGGTCTTCGGATTGTAAACCTCTGAACTTGGGACGAAAGACCAGCTTGACTGGGGATGACGGTACCAAGGTAATAGCACCGGCTAACTCCGTGCCAGCAGCCGCGGTAATACGGAGGGTGCGAGCGTTACCCGGAATCACTGGGCGTAAAGGGCGTGTAGGCGGTTTTTCAAGTCTGGCTTTAAAGACCGGAGCTCAACTCCGGGAGTGGGCTGGATACTGGGAGACTTGACGGCTGGAGAGGCAACTGGAATTCCTGGTGTAGCGGTGGAATGCGTAGATACCAGGAGGAACACCGATGGCGAAGGCAGGTTGCTGGACAGCGAGTGACGCTGAGGCGCGAAAGTGTGGGGAGCGAACCGGATTAGATACCCGGGTAGTCCACACCCTAAACGATGCACGTTGGATTACCGTGGGATGCCATGGTGGTCGAAGCCAACGCGATAAACGTGCCGCCTGGGAAGTACGGCCGCAAGGTTGAAACTCAAAGGAATTGACGGGGGCCCGCACAAGCGGTGGAGCATGTGGTTTAATTCGAAGCAACGCGAAGAACCTTACCAGGTCTTGACATGCACGGAGCCTTCCTGAAAGGGAAGGGTGCCCTTCGGGGAACCGTGACACAGGTGCTGCATGGCTGTCGTCAGCTCGTGTCGTGAGATGTTGGGTTAAGTCCCGCAACGAGCGCAACCCTTGCTTTGTGTTACTAACGGTTTGGCCGAGGACTCACAAGGGACTGCCTGTGAAAGCAGGAGGAAGGCGGGGATGACGTCTAGTCAGCATGGTCCTTACGACCTGGGCTACACACGTGCTACAATGGTCGGTACAACGCGCAGCAACACCGCGAGGTGAAGCGAATCGCTGAAAGCCGGCCTCAGTTCAGATTGCAGTCTGCAACTCGACTGCATGAAGTTGGAATCGCTAGTAATCGCGGGTCAGCACACCGCGGTGAATACGTTCCCGGGCCTTGTACACACCGCCCGTCACACCATGGGAGTTGATTGCAGCTGAAGCCGCCGGGAGCCGCAAGGCAGGCGTCTAGGCTGTGGTTGATGACTGGGGTGAAGTCGTAACAA\"\n",
    "#start = time.time()\n",
    "#print \"LCS: \", \"\".join(lcs3(longRead1, longRead2))\n",
    "#end = time.time()\n",
    "#print \"LCS Similarity: \", llcs3(longRead1, longRead2)\n",
    "#print \"Run Time: \", end-start, \" seconds\""
   ]
  },
  {
   "cell_type": "code",
   "execution_count": 7,
   "metadata": {
    "collapsed": false
   },
   "outputs": [
    {
     "name": "stdout",
     "output_type": "stream",
     "text": [
      "hman\n",
      "TCTA\n"
     ]
    }
   ],
   "source": [
    "# 3.4 Langmead's LCS Example.\n",
    "\n",
    "def llcs4(a,b):\n",
    "    return float(len(lcs4(a,b)))/float((min([len(a), len(b)])))\n",
    "\n",
    "def traceLcs(D, x, y):\n",
    "    ''' Backtrace for LCS; returns LCS as string. '''\n",
    "    i, j = len(x), len(y) # start in lower-right\n",
    "    st = []\n",
    "    while i > 0 and j > 0:\n",
    "        # get the three contributions\n",
    "        diag, vert, horz = 0, 0, 0\n",
    "        if i > 0 and j > 0:\n",
    "            delt = -1 if x[i-1] == y[j-1] else 1\n",
    "            diag = D[i-1, j-1] + delt\n",
    "        if i > 0: vert = D[i-1, j]\n",
    "        if j > 0: horz = D[i, j-1]\n",
    "        if diag <= vert and diag <= horz:\n",
    "            # diagonal is best, thus, this char is part of LCS\n",
    "            st.append(x[i-1])\n",
    "            i -= 1; j -= 1 # move up and left\n",
    "        elif vert <= horz: i -= 1 # vertical is best; move up\n",
    "        else: j -= 1 # horizontal is best; move left\n",
    "    # reverse it, then return string-ized LCS\n",
    "    return (''.join(st))[::-1]\n",
    "\n",
    "import numpy\n",
    "def lcs4(x, y):\n",
    "    ''' Return LCS of x and y.  Uses bottom-up dynamic programming\n",
    "        approach. '''\n",
    "    D = numpy.zeros((len(x)+1, len(y)+1), dtype=int)\n",
    "    for i in xrange(1, len(x)+1):\n",
    "        for j in xrange(1, len(y)+1):\n",
    "            delt = -1 if x[i-1] == y[j-1] else 1\n",
    "            D[i, j] = min(D[i-1, j-1] + delt, D[i-1, j], D[i, j-1])\n",
    "    return traceLcs(D, x, y), D\n",
    "\n",
    "print lcs4('human','chimpanzee')[0]\n",
    "print lcs4('ATCTGAT', 'TGCATA')[0]\n",
    "\n",
    "# Really long reads\n",
    "#import time\n",
    "#longRead1 = \"GGGGGCATGCCTTAACATGCAGTCGAACGGCAGCACGGGTGCTTGCACCTGGTGGCGAGTGGCGAACGGGTGAGTAATACATCGGAACATGTCCAGTAGTGGGGGATAGCCCGGCGAAAGCCGGATTAATACCGCATACGCTCTATGGAGGAAAGCGGGGGATCGAAAGACCTCGCGCTATAGGGGTGGCCGATGGCGGATTAGCTAGTTGGTGGGGTAAAGGCCTACCAAGGCGACGATCCGTAGCTGGTCTGAGAGGACGACCAGCCACACTGGGACTGAGACACGGCCCAGACTCCTACGGGAGGCAGCAGTGGGGAATTTTGGACAATGGGCGAAAGCCTGATCCAGCAATGCCGCGTGTGTGAAGAAGGCCTTCGGGTTGTAAAGCACTTTTGTCCGGAAAGAAATCCCTGGTCCTAATATGGCCGGGGGATGACGGTACCGGAAGAATAAGCACCGGCTAACTACGTGCCAGCAGCCGCGGTAATACGTAGGGTGCAAGCGTTAATCGGAATTACTGGGCGTAAAGCGTGCGCAGGCGGTGATGCAAGACCGATGTGAAATCCCCGGGCTCAACCTGGGAACTGCATTGGTGACTGCATCGCTAGAGTATGGCAGAGGGGGGTAGAATTCCACGTGTAGCAGTGAAATGCGTAGAGATGTGGAGGAATACCGATGGCGAAGGCAGCCCCCTGGGTCAATACTGACGCTCATGCACGAAAGCGTGGGGAGCAAACAGGATTAGATACCCTGGTAGTCCACGCCCTAAACGATGTCAACTGGTTGTCGGGTCTTCATTGACTTGGTAACGTAGCTAACGCGTGAAGTTGACCGCCTGGGGAGTACGGTCGCAAGATTAAAACTCAAAGGAATTGACGGGGACCCGCACAAGCGGTGGATGATGTGGATTAATTCGATGCAACGCGAAAAACCTTACCTACCCTTGACATGGATGGAATCCCGCTGAGAGGTGGGAGTGCCCGAAAGGGAGCCATCACACAGGTGCTGCATGGCTGTCGTCAGCTCGTGTCGTGAGATGTTGGGTTAAGTCCCGCAACGAGCGCAACCCTTGTCCCTAGTTGCTACGCAAGAGCACTCCAGGGAGACTGCCGGTGACAAACCGGAGGAAGGTGGGGATGACGTCAAGTCCTCATGGCCCTTATGGGTAGGGCTTCACACGTCATACAATGGTCGGAACAGAGGGTTGCCAAGCCGCGAGGTGGAGCCAATCCCAGAAAACCGATCGTAGTCCGGATCGCAGTCTGCAACTCGACTGCGTGAAGCTGGAATCGCTAGTAATCGCGGATCAGCATGCCGCGGTGAATACGTTCCCGGGTCTTGTACACACCGCCCGTCACACCATGGGAGTGGGTTTTGCCAGAAGTGGCTAGTCTAACCGCAAGGAGGACGGTCACCACGTCAGATCAGCGT\"\n",
    "#longRead2 = \"TAGACTGCAGTCGAACGCAGTCTTCGGACTGAGTGGCGCACGGGTGAGTAACGCGTAACTGACGTACCCGGAAGTCCAGAATAACTTCCCGAAAGGGAAGCTAATACCGGATGTGCAGCACTTCTTCTGGGAGTGTTGTAAAGATTTATCGCTTTCGGATCGGGTTGCGTTCCATCAGCTAGATGGTGAGGTAAAGGCTCACCATGGCAACGACGGATAGCCGACCTGAGAGGGTGGTCGGCCACAGGGGCACTGAGACACGGGCCCCACTCCTACGGGAGGCAGCAGTTAGGAATCTTCTGCAATGGACGAAAGTCTGACAGAGCGACGCCGCTTGAGGGAAGAAGGTCTTCGGATTGTAAACCTCTGAACTTGGGACGAAAGACCAGCTTGACTGGGGATGACGGTACCAAGGTAATAGCACCGGCTAACTCCGTGCCAGCAGCCGCGGTAATACGGAGGGTGCGAGCGTTACCCGGAATCACTGGGCGTAAAGGGCGTGTAGGCGGTTTTTCAAGTCTGGCTTTAAAGACCGGAGCTCAACTCCGGGAGTGGGCTGGATACTGGGAGACTTGACGGCTGGAGAGGCAACTGGAATTCCTGGTGTAGCGGTGGAATGCGTAGATACCAGGAGGAACACCGATGGCGAAGGCAGGTTGCTGGACAGCGAGTGACGCTGAGGCGCGAAAGTGTGGGGAGCGAACCGGATTAGATACCCGGGTAGTCCACACCCTAAACGATGCACGTTGGATTACCGTGGGATGCCATGGTGGTCGAAGCCAACGCGATAAACGTGCCGCCTGGGAAGTACGGCCGCAAGGTTGAAACTCAAAGGAATTGACGGGGGCCCGCACAAGCGGTGGAGCATGTGGTTTAATTCGAAGCAACGCGAAGAACCTTACCAGGTCTTGACATGCACGGAGCCTTCCTGAAAGGGAAGGGTGCCCTTCGGGGAACCGTGACACAGGTGCTGCATGGCTGTCGTCAGCTCGTGTCGTGAGATGTTGGGTTAAGTCCCGCAACGAGCGCAACCCTTGCTTTGTGTTACTAACGGTTTGGCCGAGGACTCACAAGGGACTGCCTGTGAAAGCAGGAGGAAGGCGGGGATGACGTCTAGTCAGCATGGTCCTTACGACCTGGGCTACACACGTGCTACAATGGTCGGTACAACGCGCAGCAACACCGCGAGGTGAAGCGAATCGCTGAAAGCCGGCCTCAGTTCAGATTGCAGTCTGCAACTCGACTGCATGAAGTTGGAATCGCTAGTAATCGCGGGTCAGCACACCGCGGTGAATACGTTCCCGGGCCTTGTACACACCGCCCGTCACACCATGGGAGTTGATTGCAGCTGAAGCCGCCGGGAGCCGCAAGGCAGGCGTCTAGGCTGTGGTTGATGACTGGGGTGAAGTCGTAACAA\"\n",
    "#start = time.time()\n",
    "#print \"LCS: \", lcs4(longRead1, longRead2)[0]\n",
    "#end = time.time()\n",
    "#print \"LCS Similarity: \", llcs4(longRead1, longRead2)\n",
    "#print \"Run Time: \", end-start, \" seconds\""
   ]
  },
  {
   "cell_type": "code",
   "execution_count": 8,
   "metadata": {
    "collapsed": false
   },
   "outputs": [],
   "source": [
    "# 3.5 LCS. Hirschberg's algorithm. O(mn) time. O(min(n,m)) space.\n",
    "\n",
    "def llcs5(a,b):\n",
    "    '''Scores the Longest Common Subsequence between two strings'''\n",
    "    return float(len(lcs5(a,b)))/float((min([len(a), len(b)])))\n",
    "\n",
    "def lcs_lens(xs, ys):\n",
    "    curr = list(itertools.repeat(0, 1 + len(ys)))\n",
    "    for x in xs:\n",
    "        prev = list(curr)\n",
    "        for i, y in enumerate(ys):\n",
    "            if x == y:\n",
    "                curr[i + 1] = prev[i] + 1\n",
    "            else:\n",
    "                curr[i + 1] = max(curr[i], prev[i + 1])\n",
    "    return curr\n",
    "\n",
    "def lcs5(xs, ys):\n",
    "    '''Calculates Longest Common Subsequnce'''\n",
    "    nx, ny = len(xs), len(ys)\n",
    "    if nx == 0:\n",
    "        return \"\"\n",
    "    elif nx == 1:\n",
    "        return xs[0] if xs[0] in ys else \"\"\n",
    "    else:\n",
    "        i = nx // 2\n",
    "        xb, xe = xs[:i], xs[i:]\n",
    "        ll_b = lcs_lens(xb, ys)\n",
    "        ll_e = lcs_lens(xe[::-1], ys[::-1])\n",
    "        \n",
    "        temp = [(ll_b[j] + ll_e[ny - j], j) for j in range(ny + 1)]\n",
    "        _, k = max(temp)\n",
    "\n",
    "        yb, ye = ys[:k], ys[k:]\n",
    "        return lcs5(xb, yb) + lcs5(xe, ye)"
   ]
  },
  {
   "cell_type": "code",
   "execution_count": 9,
   "metadata": {
    "collapsed": false
   },
   "outputs": [
    {
     "name": "stdout",
     "output_type": "stream",
     "text": [
      "TCTA\n",
      "LCS:  AGACTGCAGTCGAACGCAGTCTTGACTGGTGGCGCACGGGTGAGTAATACATCGGAAGTCCAGATAACCCCGAAAGGGATAATACCGATACCTCTTGGGAGGGTAAAGACCTCGGATGGGTGGCCATCAGCTAGTGGTGGGTAAAGGCCACCAGGCGACGATCCGACCTGAGAGGCGGCCACAGGGACTGAGACACGGCCCACTCCTACGGGAGGCAGCAGTGGAATTTTGCAATGGCGAAAGCTGACAGCAGCCGCGGGGAAGAAGGCTTCGGTTGTAAACCTTTTGCGAAAGACCGCTTATGGGGATGACGGTACCAAGAATAGCACCGGCTAACTCGTGCCAGCAGCCGCGGTAATACGAGGGTGCAGCGTTACGGAATACTGGGCGTAAAGCGTGAGGCGGTTCAAGCCTTAAACCGGGCTCAACCTGGGCTGATTGGGACTGACGCTGAGAGGCAAGGAATTCCGTGTAGCGTGAATGCGTAGAAGGAGGAAACCGATGGCGAAGGCAGCTGGGCATGACGCTAGCCGAAAGGTGGGGAGCAACGGATTAGATACCCGGTAGTCCACCCCTAAACGATGCACTGGTTGTGGGTCCATGTGGTCGAGCAACGCGTAAGTGCCGCCTGGGAGTACGGCGCAAGTTAAACTCAAAGGAATTGACGGGGCCCGCACAAGCGGTGGAGATGTGGTTAATTCGAGCAACGCGAAAACCTTACCTCTTGACATGAGGACCCCTGAAGGGGGGTGCCCGGGGACCTACACAGGTGCTGCATGGCTGTCGTCAGCTCGTGTCGTGAGATGTTGGGTTAAGTCCCGCAACGAGCGCAACCCTTGTCTAGTTGCCGAGGACTCCAGGGACTGCCGTGAAAAGGAGGAAGGGGGGATGACGTCAGTCCATGGCCTTAGTGGGCTCACACGTCTACAATGGTCGGACAAGGGCCACCGCGAGGTGAGCAATCCGAAACCGTCGTTCGATGCAGTCTGCAACTCGACTGCTGAAGTGGAATCGCTAGTAATCGCGGTCAGCACCGCGGTGAATACGTTCCCGGGCTTGTACACACCGCCCGTCACACCATGGGAGTGTTGCCGAAGGGAGCCGCAAGGAGGACGGTAACGTGAAGCGT\n",
      "LCS Similarity:  0.796753705011\n",
      "Run Time:  2.12151384354  seconds\n"
     ]
    }
   ],
   "source": [
    "# 3.5.1 Testing the complexity the lcs5\n",
    "#print lcs5('human','chimpanzee')\n",
    "print lcs5('ATCTGAT', 'TGCATA')\n",
    "\n",
    "# Really long reads\n",
    "longRead1 = \"GGGGGCATGCCTTAACATGCAGTCGAACGGCAGCACGGGTGCTTGCACCTGGTGGCGAGTGGCGAACGGGTGAGTAATACATCGGAACATGTCCAGTAGTGGGGGATAGCCCGGCGAAAGCCGGATTAATACCGCATACGCTCTATGGAGGAAAGCGGGGGATCGAAAGACCTCGCGCTATAGGGGTGGCCGATGGCGGATTAGCTAGTTGGTGGGGTAAAGGCCTACCAAGGCGACGATCCGTAGCTGGTCTGAGAGGACGACCAGCCACACTGGGACTGAGACACGGCCCAGACTCCTACGGGAGGCAGCAGTGGGGAATTTTGGACAATGGGCGAAAGCCTGATCCAGCAATGCCGCGTGTGTGAAGAAGGCCTTCGGGTTGTAAAGCACTTTTGTCCGGAAAGAAATCCCTGGTCCTAATATGGCCGGGGGATGACGGTACCGGAAGAATAAGCACCGGCTAACTACGTGCCAGCAGCCGCGGTAATACGTAGGGTGCAAGCGTTAATCGGAATTACTGGGCGTAAAGCGTGCGCAGGCGGTGATGCAAGACCGATGTGAAATCCCCGGGCTCAACCTGGGAACTGCATTGGTGACTGCATCGCTAGAGTATGGCAGAGGGGGGTAGAATTCCACGTGTAGCAGTGAAATGCGTAGAGATGTGGAGGAATACCGATGGCGAAGGCAGCCCCCTGGGTCAATACTGACGCTCATGCACGAAAGCGTGGGGAGCAAACAGGATTAGATACCCTGGTAGTCCACGCCCTAAACGATGTCAACTGGTTGTCGGGTCTTCATTGACTTGGTAACGTAGCTAACGCGTGAAGTTGACCGCCTGGGGAGTACGGTCGCAAGATTAAAACTCAAAGGAATTGACGGGGACCCGCACAAGCGGTGGATGATGTGGATTAATTCGATGCAACGCGAAAAACCTTACCTACCCTTGACATGGATGGAATCCCGCTGAGAGGTGGGAGTGCCCGAAAGGGAGCCATCACACAGGTGCTGCATGGCTGTCGTCAGCTCGTGTCGTGAGATGTTGGGTTAAGTCCCGCAACGAGCGCAACCCTTGTCCCTAGTTGCTACGCAAGAGCACTCCAGGGAGACTGCCGGTGACAAACCGGAGGAAGGTGGGGATGACGTCAAGTCCTCATGGCCCTTATGGGTAGGGCTTCACACGTCATACAATGGTCGGAACAGAGGGTTGCCAAGCCGCGAGGTGGAGCCAATCCCAGAAAACCGATCGTAGTCCGGATCGCAGTCTGCAACTCGACTGCGTGAAGCTGGAATCGCTAGTAATCGCGGATCAGCATGCCGCGGTGAATACGTTCCCGGGTCTTGTACACACCGCCCGTCACACCATGGGAGTGGGTTTTGCCAGAAGTGGCTAGTCTAACCGCAAGGAGGACGGTCACCACGTCAGATCAGCGT\"\n",
    "longRead2 = \"TAGACTGCAGTCGAACGCAGTCTTCGGACTGAGTGGCGCACGGGTGAGTAACGCGTAACTGACGTACCCGGAAGTCCAGAATAACTTCCCGAAAGGGAAGCTAATACCGGATGTGCAGCACTTCTTCTGGGAGTGTTGTAAAGATTTATCGCTTTCGGATCGGGTTGCGTTCCATCAGCTAGATGGTGAGGTAAAGGCTCACCATGGCAACGACGGATAGCCGACCTGAGAGGGTGGTCGGCCACAGGGGCACTGAGACACGGGCCCCACTCCTACGGGAGGCAGCAGTTAGGAATCTTCTGCAATGGACGAAAGTCTGACAGAGCGACGCCGCTTGAGGGAAGAAGGTCTTCGGATTGTAAACCTCTGAACTTGGGACGAAAGACCAGCTTGACTGGGGATGACGGTACCAAGGTAATAGCACCGGCTAACTCCGTGCCAGCAGCCGCGGTAATACGGAGGGTGCGAGCGTTACCCGGAATCACTGGGCGTAAAGGGCGTGTAGGCGGTTTTTCAAGTCTGGCTTTAAAGACCGGAGCTCAACTCCGGGAGTGGGCTGGATACTGGGAGACTTGACGGCTGGAGAGGCAACTGGAATTCCTGGTGTAGCGGTGGAATGCGTAGATACCAGGAGGAACACCGATGGCGAAGGCAGGTTGCTGGACAGCGAGTGACGCTGAGGCGCGAAAGTGTGGGGAGCGAACCGGATTAGATACCCGGGTAGTCCACACCCTAAACGATGCACGTTGGATTACCGTGGGATGCCATGGTGGTCGAAGCCAACGCGATAAACGTGCCGCCTGGGAAGTACGGCCGCAAGGTTGAAACTCAAAGGAATTGACGGGGGCCCGCACAAGCGGTGGAGCATGTGGTTTAATTCGAAGCAACGCGAAGAACCTTACCAGGTCTTGACATGCACGGAGCCTTCCTGAAAGGGAAGGGTGCCCTTCGGGGAACCGTGACACAGGTGCTGCATGGCTGTCGTCAGCTCGTGTCGTGAGATGTTGGGTTAAGTCCCGCAACGAGCGCAACCCTTGCTTTGTGTTACTAACGGTTTGGCCGAGGACTCACAAGGGACTGCCTGTGAAAGCAGGAGGAAGGCGGGGATGACGTCTAGTCAGCATGGTCCTTACGACCTGGGCTACACACGTGCTACAATGGTCGGTACAACGCGCAGCAACACCGCGAGGTGAAGCGAATCGCTGAAAGCCGGCCTCAGTTCAGATTGCAGTCTGCAACTCGACTGCATGAAGTTGGAATCGCTAGTAATCGCGGGTCAGCACACCGCGGTGAATACGTTCCCGGGCCTTGTACACACCGCCCGTCACACCATGGGAGTTGATTGCAGCTGAAGCCGCCGGGAGCCGCAAGGCAGGCGTCTAGGCTGTGGTTGATGACTGGGGTGAAGTCGTAACAA\"\n",
    "start = time.time()\n",
    "print \"LCS: \", \"\".join(lcs5(longRead1, longRead2))\n",
    "end = time.time()\n",
    "print \"LCS Similarity: \", llcs5(longRead1, longRead2)\n",
    "print \"Run Time: \", end-start, \" seconds\""
   ]
  },
  {
   "cell_type": "code",
   "execution_count": null,
   "metadata": {
    "collapsed": true
   },
   "outputs": [],
   "source": [
    "# LCS Filter 1\n",
    "def lcsFilter1(cluster, s): newCluster = [] counter = 1\n",
    "    for clump in cluster:\n",
    "        repCluster = []\n",
    "        disClusters = []\n",
    "\n",
    "        r_rep = clump[0]\n",
    "        for q in clump:\n",
    "            if llcs5(q,r_rep) >= s:\n",
    "                repCluster.append(q)\n",
    "            else:\n",
    "                for disCluster in disClusters:\n",
    "                    r_dis = disCluster[0]\n",
    "                    if llcs5(q, r_dis) >= s:\n",
    "                        disCluster.append(q)\n",
    "                        break\n",
    "                else:\n",
    "                    disClusters.append([q])\n",
    "        newCluster.append([\"Cluster \" + str(counter), repCluster, disClusters])\n",
    "        counter = counter + 1\n",
    "    return newCluster"
   ]
  },
  {
   "cell_type": "code",
   "execution_count": 12,
   "metadata": {
    "collapsed": false
   },
   "outputs": [],
   "source": [
    "# LCS Filter 2\n",
    "def averageCluster(cluster):\n",
    "    if len(cluster) < 2:\n",
    "        return cluster\n",
    "    else:\n",
    "        curr_avg = \"\".join(lcs5(cluster[0], cluster[1]))\n",
    "        \n",
    "        for i in range(2, len(cluster)):\n",
    "            print curr_avg\n",
    "            curr_avg = \"\".join(lcs5(curr_avg, cluster[i]))\n",
    "            \n",
    "        return curr_avg\n",
    "            \n",
    "def lcsFilter2(cluster, s):\n",
    "    newCluster = []\n",
    "    counter = 1\n",
    "    \n",
    "    print averageCluster(cluster)"
   ]
  },
  {
   "cell_type": "code",
   "execution_count": 13,
   "metadata": {
    "collapsed": true
   },
   "outputs": [],
   "source": [
    "mini = 4; maxi = 4; s_threshold = 0.85\n",
    "filename = 'f2014_hw4_reads.fa'\n",
    "\n",
    "# 1. Reads .fa file\n",
    "text = open(filename)\n",
    "reads = getReads(text)\n",
    "\n",
    "# 2. Creats an index\n",
    "index = makeIndex(reads[0], [], mini, maxi+1)\n",
    "\n",
    "# 3. Short Word filter\n",
    "shortWordCluster = shortWordFilter(reads, index, mini, maxi)"
   ]
  },
  {
   "cell_type": "code",
   "execution_count": 14,
   "metadata": {
    "collapsed": false
   },
   "outputs": [
    {
     "name": "stdout",
     "output_type": "stream",
     "text": [
      "[['ACTTCATGGCAGCCGACTCTCTGTAGCTCTATAGCCGTCCAGGCGAAGGTCAATACCTGTGACTGCTTCCTTCTAGCTCACATGAGTGTTTCGCATTCGG', 'GTACTTCATGGCAGCCGACTCTCTGTAGCTCTATAGCCGTCCAGGCGAAGGTCAATACCTGTGACTGCTTCCTTCTAGCTCACATGAGTGTTTCGCATTC', 'GGCAGCCGACTCTCTGTAGCTCTATAGCCGTCCAGGCGAAGGTCAATACCTGTGACTGCTTCCTTCTAGCTCACATGAGTGTTTCGCATTCGGTAAACTA', 'GTACGTACTTCATGGCAGCCGACTCTCTGTAGCTCTATAGCCGTCCAGGCGAAGGTCAATACCTGTGACTGCTTCCTTCTAGCTCACATGAGTGTTTCGC', 'ATGGCAGCCGACTCTCTGTAGCTCTATAGCCGTCCAGGCGAAGGTCAATACCTGTGACTGCTTCCTTCTAGCTCACATGAGTGTTTCGCATTCGGTAAAC', 'GAGTACGTACTTCATGGCAGCCGACTCTCTGTAGCTCTATAGCCGTCCAGGCGAAGGTCAATACCTGTGACTGCTTCCTTCTAGCTCACATGAGTGTTTC', 'CATGGCAGCCGACTCTCTGTAGCTCTATAGCCGTCCAGGCGAAGGTCAATACCTGTGACTGCTTCCTTCTAGCTCACATGAGTGTTTCGCATTCGGTAAA', 'ACGTACTTCATGGCAGCCGACTCTCTGTAGCTCTATAGCCGTCCAGGCGAAGGTCAATACCTGTGACTGCTTCCTTCTAGCTCACATGAGTGTTTCGCAT', 'TACTTCATGGCAGCCGACTCTCTGTAGCTCTATAGCCGTCCAGGCGAAGGTCAATACCTGTGACTGCTTCCTTCTAGCTCACATGAGTGTTTCGCATTCG']]\n"
     ]
    }
   ],
   "source": [
    "# 4. Testing LCS Filter\n",
    "testCluster = [shortWordCluster[7]]\n",
    "lcsCluster = lcsFilter2(testCluster, 0.95)"
   ]
  },
  {
   "cell_type": "code",
   "execution_count": 15,
   "metadata": {
    "collapsed": false,
    "scrolled": true
   },
   "outputs": [
    {
     "data": {
      "text/plain": [
       "['CTGGTTGGTGTAGATAAGCCAAGATCGAAGCTCGAGCGAGAGCTAGTGTTGGTGCCCGGAGCCATGGCGGGTATGTCACGCCAATCAGCGTACAAGGAGG',\n",
       " 'AGATAAGCCAAGATCGAAGCTCGAGCGAGAGCTAGTGTTGGTGCCCGGAGCCATGGCGGGTATGTCACGCCAATCAGCGTACAAGGAGGAAATCGCAATC',\n",
       " 'ATCGCCAAATCTGGTTGGTGTAGATAAGCCAAGATCGAAGCTCGAGCGAGAGCTAGTGTTGGTGCCCGGAGCCATGGCGGGTATGTCACGCCAATCAGCG',\n",
       " 'ACGTATCGCCAAATCTGGTTGGTGTAGATAAGCCAAGATCGAAGCTCGAGCGAGAGCTAGTGTTGGTGCCCGGAGCCATGGCGGGTATGTCACGCCAATC',\n",
       " 'GTATCGCCAAATCTGGTTGGTGTAGATAAGCCAAGATCGAAGCTCGAGCGAGAGCTAGTGTTGGTGCCCGGAGCCATGGCGGGTATGTCACGCCAATCAG',\n",
       " 'GTAGATAAGCCAAGATCGAAGCTCGAGCGAGAGCTAGTGTTGGTGCCCGGAGCCATGGCGGGTATGTCACGCCAATCAGCGTACAAGGAGGAAATCGCAA',\n",
       " 'AAATCTGGTTGGTGTAGATAAGCCAAGATCGAAGCTCGAGCGAGAGCTAGTGTTGGTGCCCGGAGCCATGGCGGGTATGTCACGCCAATCAGCGTACAAG',\n",
       " 'CAAATCTGGTTGGTGTAGATAAGCCAAGATCGAAGCTCGAGCGAGAGCTAGTGTTGGTGCCCGGAGCCATGGCGGGTATGTCACGCCAATCAGCGTACAA',\n",
       " 'GCCAAATCTGGTTGGTGTAGATAAGCCAAGATCGAAGCTCGAGCGAGAGCTAGTGTTGGTGCCCGGAGCCATGGCGGGTATGTCACGCCAATCAGCGTAC',\n",
       " 'AATCTGGTTGGTGTAGATAAGCCAAGATCGAAGCTCGAGCGAGAGCTAGTGTTGGTGCCCGGAGCCATGGCGGGTATGTCACGCCAATCAGCGTACAAGG',\n",
       " 'GTGTAGATAAGCCAAGATCGAAGCTCGAGCGAGAGCTAGTGTTGGTGCCCGGAGCCATGGCGGGTATGTCACGCCAATCAGCGTACAAGGAGGAAATCGC',\n",
       " 'TCTGGTTGGTGTAGATAAGCCAAGATCGAAGCTCGAGCGAGAGCTAGTGTTGGTGCCCGGAGCCATGGCGGGTATGTCACGCCAATCAGCGTACAAGGAG',\n",
       " 'CCAAATCTGGTTGGTGTAGATAAGCCAAGATCGAAGCTCGAGCGAGAGCTAGTGTTGGTGCCCGGAGCCATGGCGGGTATGTCACGCCAATCAGCGTACA',\n",
       " 'CGCCAAATCTGGTTGGTGTAGATAAGCCAAGATCGAAGCTCGAGCGAGAGCTAGTGTTGGTGCCCGGAGCCATGGCGGGTATGTCACGCCAATCAGCGTA',\n",
       " 'GGTTGGTGTAGATAAGCCAAGATCGAAGCTCGAGCGAGAGCTAGTGTTGGTGCCCGGAGCCATGGCGGGTATGTCACGCCAATCAGCGTACAAGGAGGAA',\n",
       " 'GGTGTAGATAAGCCAAGATCGAAGCTCGAGCGAGAGCTAGTGTTGGTGCCCGGAGCCATGGCGGGTATGTCACGCCAATCAGCGTACAAGGAGGAAATCG',\n",
       " 'TGTAGATAAGCCAAGATCGAAGCTCGAGCGAGAGCTAGTGTTGGTGCCCGGAGCCATGGCGGGTATGTCACGCCAATCAGCGTACAAGGAGGAAATCGCA',\n",
       " 'TATCGCCAAATCTGGTTGGTGTAGATAAGCCAAGATCGAAGCTCGAGCGAGAGCTAGTGTTGGTGCCCGGAGCCATGGCGGGTATGTCACGCCAATCAGC',\n",
       " 'TGGTGTAGATAAGCCAAGATCGAAGCTCGAGCGAGAGCTAGTGTTGGTGCCCGGAGCCATGGCGGGTATGTCACGCCAATCAGCGTACAAGGAGGAAATC']"
      ]
     },
     "execution_count": 15,
     "metadata": {},
     "output_type": "execute_result"
    }
   ],
   "source": [
    "# Example of the first cluster from short word filter\n",
    "swCluster = shortWordCluster[0]\n",
    "swCluster"
   ]
  },
  {
   "cell_type": "code",
   "execution_count": 18,
   "metadata": {
    "collapsed": false
   },
   "outputs": [
    {
     "name": "stdout",
     "output_type": "stream",
     "text": [
      "AGATAAGCCAAGATCGAAGCTCGAGCGAGAGCTAGTGTTGGTGCCCGGAGCCATGGCGGGTATGTCACGCCAATCAGCGTACAAGGAGG\n",
      "AGATAAGCCAAGATCGAAGCTCGAGCGAGAGCTAGTGTTGGTGCCCGGAGCCATGGCGGGTATGTCACGCCAATCAGCG\n",
      "AGATAAGCCAAGATCGAAGCTCGAGCGAGAGCTAGTGTTGGTGCCCGGAGCCATGGCGGGTATGTCACGCCAATC\n",
      "AGATAAGCCAAGATCGAAGCTCGAGCGAGAGCTAGTGTTGGTGCCCGGAGCCATGGCGGGTATGTCACGCCAATC\n",
      "AGATAAGCCAAGATCGAAGCTCGAGCGAGAGCTAGTGTTGGTGCCCGGAGCCATGGCGGGTATGTCACGCCAATC\n",
      "AGATAAGCCAAGATCGAAGCTCGAGCGAGAGCTAGTGTTGGTGCCCGGAGCCATGGCGGGTATGTCACGCCAATC\n",
      "AGATAAGCCAAGATCGAAGCTCGAGCGAGAGCTAGTGTTGGTGCCCGGAGCCATGGCGGGTATGTCACGCCAATC\n",
      "AGATAAGCCAAGATCGAAGCTCGAGCGAGAGCTAGTGTTGGTGCCCGGAGCCATGGCGGGTATGTCACGCCAATC\n",
      "AGATAAGCCAAGATCGAAGCTCGAGCGAGAGCTAGTGTTGGTGCCCGGAGCCATGGCGGGTATGTCACGCCAATC\n",
      "AGATAAGCCAAGATCGAAGCTCGAGCGAGAGCTAGTGTTGGTGCCCGGAGCCATGGCGGGTATGTCACGCCAATC\n",
      "AGATAAGCCAAGATCGAAGCTCGAGCGAGAGCTAGTGTTGGTGCCCGGAGCCATGGCGGGTATGTCACGCCAATC\n",
      "AGATAAGCCAAGATCGAAGCTCGAGCGAGAGCTAGTGTTGGTGCCCGGAGCCATGGCGGGTATGTCACGCCAATC\n",
      "AGATAAGCCAAGATCGAAGCTCGAGCGAGAGCTAGTGTTGGTGCCCGGAGCCATGGCGGGTATGTCACGCCAATC\n",
      "AGATAAGCCAAGATCGAAGCTCGAGCGAGAGCTAGTGTTGGTGCCCGGAGCCATGGCGGGTATGTCACGCCAATC\n",
      "AGATAAGCCAAGATCGAAGCTCGAGCGAGAGCTAGTGTTGGTGCCCGGAGCCATGGCGGGTATGTCACGCCAATC\n",
      "AGATAAGCCAAGATCGAAGCTCGAGCGAGAGCTAGTGTTGGTGCCCGGAGCCATGGCGGGTATGTCACGCCAATC\n",
      "AGATAAGCCAAGATCGAAGCTCGAGCGAGAGCTAGTGTTGGTGCCCGGAGCCATGGCGGGTATGTCACGCCAATC\n",
      "AGATAAGCCAAGATCGAAGCTCGAGCGAGAGCTAGTGTTGGTGCCCGGAGCCATGGCGGGTATGTCACGCCAATC\n"
     ]
    }
   ],
   "source": [
    "#Example of the first cluster from lcs filter\n",
    "lcsCluster = lcsFilter2(swCluster, 0.95)\n",
    "lcsCluster"
   ]
  },
  {
   "cell_type": "code",
   "execution_count": 16,
   "metadata": {
    "collapsed": false
   },
   "outputs": [
    {
     "name": "stdout",
     "output_type": "stream",
     "text": [
      "31\n"
     ]
    }
   ],
   "source": [
    "# Cluster Comparison\n",
    "filename1 = 'phanicluster.txt'\n",
    "filename2 = 'cdhitcluster.txt'\n",
    "\n",
    "# 1. Reads .fa file\n",
    "text1 = open(filename1)\n",
    "reads1 = text1.readlines()\n",
    "text2 = open(filename2)\n",
    "reads2 = text2.readlines()\n",
    "\n",
    "readIDsPhani = set()\n",
    "readIDsCDHit = set()\n",
    "for reads in reads1:\n",
    "    readIDsPhani.add(reads.split(\"|\")[1])\n",
    "for reads in reads2:\n",
    "    readIDsCDHit.add(reads.split(\"|\")[1])\n",
    "print len(readIDsPhani.intersection(readIDsCDHit))"
   ]
  }
 ],
 "metadata": {
  "kernelspec": {
   "display_name": "Python 2",
   "language": "python",
   "name": "python2"
  },
  "language_info": {
   "codemirror_mode": {
    "name": "ipython",
    "version": 2
   },
   "file_extension": ".py",
   "mimetype": "text/x-python",
   "name": "python",
   "nbconvert_exporter": "python",
   "pygments_lexer": "ipython2",
   "version": "2.7.10"
  }
 },
 "nbformat": 4,
 "nbformat_minor": 0
}
